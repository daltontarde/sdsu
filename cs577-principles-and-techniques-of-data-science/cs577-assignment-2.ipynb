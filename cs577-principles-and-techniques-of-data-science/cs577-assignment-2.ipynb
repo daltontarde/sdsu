{
  "cells": [
    {
      "cell_type": "markdown",
      "id": "illegal-least",
      "metadata": {
        "id": "illegal-least"
      },
      "source": [
        "# Assignment 3: EDA, Visualization, Regular Expressions, and SQL\n",
        "## Due Date: Sunday, Oct. 31, 11:59PM\n",
        "\n",
        "## Collaboration Policy\n",
        "\n",
        "Data science is a collaborative activity. While you may talk with others about\n",
        "the homework, we ask that you **write your solutions individually**. If you do\n",
        "discuss the assignments with others please **include their names** below."
      ]
    },
    {
      "cell_type": "markdown",
      "id": "heard-reduction",
      "metadata": {
        "id": "heard-reduction"
      },
      "source": [
        "## Scoring Breakdown\n",
        "\n",
        "|Question|Points|\n",
        "|---|---|\n",
        "|1.1|10|\n",
        "|1.2|10|\n",
        "|1.3|10|\n",
        "|1.4|10|\n",
        "|2|30|\n",
        "|3.1|10|\n",
        "|3.2|10|\n",
        "|3.3|10|\n",
        "|**Total**|100|"
      ]
    },
    {
      "cell_type": "markdown",
      "id": "physical-parent",
      "metadata": {
        "id": "physical-parent"
      },
      "source": [
        "Load the Food Safety datasets (bus.csv, ins2vio.csv, ins.csv, and vio.csv) into pandas dataframes and answer the following questions based on the dataframes."
      ]
    },
    {
      "cell_type": "code",
      "execution_count": null,
      "id": "honey-herald",
      "metadata": {
        "id": "honey-herald"
      },
      "outputs": [],
      "source": [
        "import pandas as pd\n",
        "import numpy as np\n",
        "bus = pd.read_csv('bus.csv')\n",
        "ins = pd.read_csv('ins.csv')\n",
        "ins2vio = pd.read_csv('ins2vio.csv')\n",
        "vio = pd.read_csv('vio.csv')"
      ]
    },
    {
      "cell_type": "markdown",
      "id": "ruled-parts",
      "metadata": {
        "id": "ruled-parts"
      },
      "source": [
        "## Part 1: EDA"
      ]
    },
    {
      "cell_type": "markdown",
      "id": "complete-works",
      "metadata": {
        "id": "complete-works"
      },
      "source": [
        "Use the business dataset (bus) to answer the Part 1 questions."
      ]
    },
    {
      "cell_type": "markdown",
      "id": "clear-behalf",
      "metadata": {
        "id": "clear-behalf"
      },
      "source": [
        "1.1. Examining the entries in `bus`, is the `bid` unique for each record (i.e. each row of data)?\n",
        "\n",
        "Hint: use `value_counts()` or `unique()` to determine if the `bid` series has any duplicates.\n"
      ]
    },
    {
      "cell_type": "code",
      "execution_count": null,
      "id": "younger-massage",
      "metadata": {
        "id": "younger-massage",
        "outputId": "992ac926-7a0d-48e5-c4dd-aa9ed9d2b06d"
      },
      "outputs": [
        {
          "data": {
            "text/html": [
              "<div>\n",
              "<style scoped>\n",
              "    .dataframe tbody tr th:only-of-type {\n",
              "        vertical-align: middle;\n",
              "    }\n",
              "\n",
              "    .dataframe tbody tr th {\n",
              "        vertical-align: top;\n",
              "    }\n",
              "\n",
              "    .dataframe thead th {\n",
              "        text-align: right;\n",
              "    }\n",
              "</style>\n",
              "<table border=\"1\" class=\"dataframe\">\n",
              "  <thead>\n",
              "    <tr style=\"text-align: right;\">\n",
              "      <th></th>\n",
              "      <th>business id column</th>\n",
              "    </tr>\n",
              "  </thead>\n",
              "  <tbody>\n",
              "  </tbody>\n",
              "</table>\n",
              "</div>"
            ],
            "text/plain": [
              "Empty DataFrame\n",
              "Columns: [business id column]\n",
              "Index: []"
            ]
          },
          "execution_count": 2,
          "metadata": {},
          "output_type": "execute_result"
        }
      ],
      "source": [
        "bid = bus['business id column'].value_counts().to_frame() # used value_counts() to find duplicates\n",
        "bid[(bid['business id column'] != 1)]"
      ]
    },
    {
      "cell_type": "markdown",
      "id": "helpful-junior",
      "metadata": {
        "id": "helpful-junior"
      },
      "source": [
        "1.2. In the two cells below create the following **two numpy arrays**:\n",
        "\n",
        "1. Assign `top_names` to the top 5 most frequently used business names, from most frequent to least frequent.\n",
        "2. Assign `top_addresses` to the top 5 addressses where businesses are located, from most popular to least popular.\n",
        "\n",
        "Hint: you may find `value_counts()` helpful."
      ]
    },
    {
      "cell_type": "code",
      "execution_count": null,
      "id": "wrong-liverpool",
      "metadata": {
        "id": "wrong-liverpool",
        "outputId": "342a6904-39c2-4169-e5db-bd08e31682c5"
      },
      "outputs": [
        {
          "data": {
            "text/plain": [
              "array([\"Peet's Coffee & Tea\", 'Starbucks Coffee', 'Jamba Juice',\n",
              "       \"McDonald's\", 'STARBUCKS'], dtype=object)"
            ]
          },
          "execution_count": 3,
          "metadata": {},
          "output_type": "execute_result"
        }
      ],
      "source": [
        "top_names = bus['name'].value_counts().head(5)\n",
        "top_names = top_names.to_frame().T.columns.to_numpy()\n",
        "top_names"
      ]
    },
    {
      "cell_type": "code",
      "execution_count": null,
      "id": "enormous-bread",
      "metadata": {
        "id": "enormous-bread",
        "outputId": "b5bfccce-2c99-44a9-8f81-5bfc7c3b7654"
      },
      "outputs": [
        {
          "data": {
            "text/plain": [
              "array(['428 11th St', '2948 Folsom St', '3251 20th Ave', 'Pier 41'],\n",
              "      dtype=object)"
            ]
          },
          "execution_count": 4,
          "metadata": {},
          "output_type": "execute_result"
        }
      ],
      "source": [
        "top_addresses = bus['address'].value_counts().head(5).iloc[1:] # removed \"Off the Grid\" - outlier\n",
        "top_addresses.to_frame().T.columns.to_numpy()"
      ]
    },
    {
      "cell_type": "markdown",
      "id": "british-malaysia",
      "metadata": {
        "id": "british-malaysia"
      },
      "source": [
        "1.3. In the following cell, construct a series that counts the number of businesses at each address that have likely MISSING postal code value (i.e. postal_code=-9999). Order the series in descending order by count."
      ]
    },
    {
      "cell_type": "code",
      "execution_count": null,
      "id": "living-twenty",
      "metadata": {
        "id": "living-twenty",
        "outputId": "0f93e466-696b-4e19-fc60-23c95d8e7e14"
      },
      "outputs": [
        {
          "data": {
            "text/plain": [
              "Off The Grid                                         39\n",
              "Off the Grid                                         10\n",
              "OTG                                                   4\n",
              "Approved Locations                                    3\n",
              "Approved Private Locations                            3\n",
              "                                                     ..\n",
              "201 2nd St                                            1\n",
              "Pier 39 West Perimeter                                1\n",
              "170 O'Farrell St                                      1\n",
              "Golden Gate Park, JFK Dr.@Conservatory of Flowers     1\n",
              "3611 18th St                                          1\n",
              "Name: address, Length: 135, dtype: int64"
            ]
          },
          "execution_count": 6,
          "metadata": {},
          "output_type": "execute_result"
        }
      ],
      "source": [
        "missing = bus[bus['postal_code'] == '-9999']\n",
        "missing['address'].value_counts()"
      ]
    },
    {
      "cell_type": "markdown",
      "id": "secure-planner",
      "metadata": {
        "id": "secure-planner"
      },
      "source": [
        "1.4. Look at the businesses that DO NOT have the special MISSING ZIP code value. Some of the invalid postal codes are just the full 9 digit code rather than the first 5 digits. Create a new column named `postal5` in the original bus dataframe which contains only the first 5 digits of the postal_code column. Finally, for any of the likely MISSING postal5 ZIP code entries set the entry to None."
      ]
    },
    {
      "cell_type": "code",
      "execution_count": null,
      "id": "known-traffic",
      "metadata": {
        "id": "known-traffic",
        "outputId": "761c9ca4-0f5a-4a68-bd43-71d62c0a6c97"
      },
      "outputs": [
        {
          "data": {
            "text/html": [
              "<div>\n",
              "<style scoped>\n",
              "    .dataframe tbody tr th:only-of-type {\n",
              "        vertical-align: middle;\n",
              "    }\n",
              "\n",
              "    .dataframe tbody tr th {\n",
              "        vertical-align: top;\n",
              "    }\n",
              "\n",
              "    .dataframe thead th {\n",
              "        text-align: right;\n",
              "    }\n",
              "</style>\n",
              "<table border=\"1\" class=\"dataframe\">\n",
              "  <thead>\n",
              "    <tr style=\"text-align: right;\">\n",
              "      <th></th>\n",
              "      <th>business id column</th>\n",
              "      <th>name</th>\n",
              "      <th>address</th>\n",
              "      <th>city</th>\n",
              "      <th>state</th>\n",
              "      <th>postal_code</th>\n",
              "      <th>latitude</th>\n",
              "      <th>longitude</th>\n",
              "      <th>phone_number</th>\n",
              "      <th>postal5</th>\n",
              "    </tr>\n",
              "  </thead>\n",
              "  <tbody>\n",
              "    <tr>\n",
              "      <th>0</th>\n",
              "      <td>1000</td>\n",
              "      <td>HEUNG YUEN RESTAURANT</td>\n",
              "      <td>3279 22nd St</td>\n",
              "      <td>San Francisco</td>\n",
              "      <td>CA</td>\n",
              "      <td>94110</td>\n",
              "      <td>37.755282</td>\n",
              "      <td>-122.420493</td>\n",
              "      <td>-9999</td>\n",
              "      <td>94110</td>\n",
              "    </tr>\n",
              "    <tr>\n",
              "      <th>1</th>\n",
              "      <td>100010</td>\n",
              "      <td>ILLY CAFFE SF_PIER 39</td>\n",
              "      <td>PIER 39  K-106-B</td>\n",
              "      <td>San Francisco</td>\n",
              "      <td>CA</td>\n",
              "      <td>94133</td>\n",
              "      <td>-9999.000000</td>\n",
              "      <td>-9999.000000</td>\n",
              "      <td>14154827284</td>\n",
              "      <td>94133</td>\n",
              "    </tr>\n",
              "    <tr>\n",
              "      <th>2</th>\n",
              "      <td>100017</td>\n",
              "      <td>AMICI'S EAST COAST PIZZERIA</td>\n",
              "      <td>475 06th St</td>\n",
              "      <td>San Francisco</td>\n",
              "      <td>CA</td>\n",
              "      <td>94103</td>\n",
              "      <td>-9999.000000</td>\n",
              "      <td>-9999.000000</td>\n",
              "      <td>14155279839</td>\n",
              "      <td>94103</td>\n",
              "    </tr>\n",
              "    <tr>\n",
              "      <th>3</th>\n",
              "      <td>100026</td>\n",
              "      <td>LOCAL CATERING</td>\n",
              "      <td>1566 CARROLL AVE</td>\n",
              "      <td>San Francisco</td>\n",
              "      <td>CA</td>\n",
              "      <td>94124</td>\n",
              "      <td>-9999.000000</td>\n",
              "      <td>-9999.000000</td>\n",
              "      <td>14155860315</td>\n",
              "      <td>94124</td>\n",
              "    </tr>\n",
              "    <tr>\n",
              "      <th>4</th>\n",
              "      <td>100030</td>\n",
              "      <td>OUI OUI! MACARON</td>\n",
              "      <td>2200 JERROLD AVE STE C</td>\n",
              "      <td>San Francisco</td>\n",
              "      <td>CA</td>\n",
              "      <td>94124</td>\n",
              "      <td>-9999.000000</td>\n",
              "      <td>-9999.000000</td>\n",
              "      <td>14159702675</td>\n",
              "      <td>94124</td>\n",
              "    </tr>\n",
              "    <tr>\n",
              "      <th>...</th>\n",
              "      <td>...</td>\n",
              "      <td>...</td>\n",
              "      <td>...</td>\n",
              "      <td>...</td>\n",
              "      <td>...</td>\n",
              "      <td>...</td>\n",
              "      <td>...</td>\n",
              "      <td>...</td>\n",
              "      <td>...</td>\n",
              "      <td>...</td>\n",
              "    </tr>\n",
              "    <tr>\n",
              "      <th>6248</th>\n",
              "      <td>99948</td>\n",
              "      <td>SUSIECAKES BAKERY</td>\n",
              "      <td>3509 CALIFORNIA ST</td>\n",
              "      <td>San Francisco</td>\n",
              "      <td>CA</td>\n",
              "      <td>94118</td>\n",
              "      <td>-9999.000000</td>\n",
              "      <td>-9999.000000</td>\n",
              "      <td>14150452253</td>\n",
              "      <td>94118</td>\n",
              "    </tr>\n",
              "    <tr>\n",
              "      <th>6249</th>\n",
              "      <td>99988</td>\n",
              "      <td>HINODEYA SOMA</td>\n",
              "      <td>303 02nd ST STE 102</td>\n",
              "      <td>San Francisco</td>\n",
              "      <td>CA</td>\n",
              "      <td>94107</td>\n",
              "      <td>-9999.000000</td>\n",
              "      <td>-9999.000000</td>\n",
              "      <td>-9999</td>\n",
              "      <td>94107</td>\n",
              "    </tr>\n",
              "    <tr>\n",
              "      <th>6250</th>\n",
              "      <td>99991</td>\n",
              "      <td>TON TON</td>\n",
              "      <td>422 GEARY ST</td>\n",
              "      <td>San Francisco</td>\n",
              "      <td>CA</td>\n",
              "      <td>94102</td>\n",
              "      <td>-9999.000000</td>\n",
              "      <td>-9999.000000</td>\n",
              "      <td>14155531280</td>\n",
              "      <td>94102</td>\n",
              "    </tr>\n",
              "    <tr>\n",
              "      <th>6251</th>\n",
              "      <td>99992</td>\n",
              "      <td>URBAN EXPRESS KITCHENS LLC</td>\n",
              "      <td>475 06th ST</td>\n",
              "      <td>San Francisco</td>\n",
              "      <td>CA</td>\n",
              "      <td>94103</td>\n",
              "      <td>-9999.000000</td>\n",
              "      <td>-9999.000000</td>\n",
              "      <td>14150368085</td>\n",
              "      <td>94103</td>\n",
              "    </tr>\n",
              "    <tr>\n",
              "      <th>6252</th>\n",
              "      <td>99993</td>\n",
              "      <td>THE BRIXTON SOUTH</td>\n",
              "      <td>701 02nd St</td>\n",
              "      <td>San Francisco</td>\n",
              "      <td>CA</td>\n",
              "      <td>94102</td>\n",
              "      <td>-9999.000000</td>\n",
              "      <td>-9999.000000</td>\n",
              "      <td>14158315871</td>\n",
              "      <td>94102</td>\n",
              "    </tr>\n",
              "  </tbody>\n",
              "</table>\n",
              "<p>6253 rows × 10 columns</p>\n",
              "</div>"
            ],
            "text/plain": [
              "      business id column                         name                 address  \\\n",
              "0                   1000        HEUNG YUEN RESTAURANT            3279 22nd St   \n",
              "1                 100010        ILLY CAFFE SF_PIER 39        PIER 39  K-106-B   \n",
              "2                 100017  AMICI'S EAST COAST PIZZERIA             475 06th St   \n",
              "3                 100026               LOCAL CATERING        1566 CARROLL AVE   \n",
              "4                 100030             OUI OUI! MACARON  2200 JERROLD AVE STE C   \n",
              "...                  ...                          ...                     ...   \n",
              "6248               99948            SUSIECAKES BAKERY      3509 CALIFORNIA ST   \n",
              "6249               99988                HINODEYA SOMA     303 02nd ST STE 102   \n",
              "6250               99991                      TON TON            422 GEARY ST   \n",
              "6251               99992   URBAN EXPRESS KITCHENS LLC             475 06th ST   \n",
              "6252               99993            THE BRIXTON SOUTH             701 02nd St   \n",
              "\n",
              "               city state postal_code     latitude    longitude  phone_number  \\\n",
              "0     San Francisco    CA       94110    37.755282  -122.420493         -9999   \n",
              "1     San Francisco    CA       94133 -9999.000000 -9999.000000   14154827284   \n",
              "2     San Francisco    CA       94103 -9999.000000 -9999.000000   14155279839   \n",
              "3     San Francisco    CA       94124 -9999.000000 -9999.000000   14155860315   \n",
              "4     San Francisco    CA       94124 -9999.000000 -9999.000000   14159702675   \n",
              "...             ...   ...         ...          ...          ...           ...   \n",
              "6248  San Francisco    CA       94118 -9999.000000 -9999.000000   14150452253   \n",
              "6249  San Francisco    CA       94107 -9999.000000 -9999.000000         -9999   \n",
              "6250  San Francisco    CA       94102 -9999.000000 -9999.000000   14155531280   \n",
              "6251  San Francisco    CA       94103 -9999.000000 -9999.000000   14150368085   \n",
              "6252  San Francisco    CA       94102 -9999.000000 -9999.000000   14158315871   \n",
              "\n",
              "     postal5  \n",
              "0      94110  \n",
              "1      94133  \n",
              "2      94103  \n",
              "3      94124  \n",
              "4      94124  \n",
              "...      ...  \n",
              "6248   94118  \n",
              "6249   94107  \n",
              "6250   94102  \n",
              "6251   94103  \n",
              "6252   94102  \n",
              "\n",
              "[6253 rows x 10 columns]"
            ]
          },
          "execution_count": 7,
          "metadata": {},
          "output_type": "execute_result"
        }
      ],
      "source": [
        "bus['postal5'] = bus['postal_code'].str[:5]\n",
        "bus['postal5'].replace({\"-9999\" : None}, inplace = True)\n",
        "bus"
      ]
    },
    {
      "cell_type": "code",
      "execution_count": null,
      "id": "aff235eb",
      "metadata": {
        "id": "aff235eb",
        "outputId": "edda45f9-b363-43b7-b5b8-f0a99c30501f"
      },
      "outputs": [
        {
          "data": {
            "text/html": [
              "<div>\n",
              "<style scoped>\n",
              "    .dataframe tbody tr th:only-of-type {\n",
              "        vertical-align: middle;\n",
              "    }\n",
              "\n",
              "    .dataframe tbody tr th {\n",
              "        vertical-align: top;\n",
              "    }\n",
              "\n",
              "    .dataframe thead th {\n",
              "        text-align: right;\n",
              "    }\n",
              "</style>\n",
              "<table border=\"1\" class=\"dataframe\">\n",
              "  <thead>\n",
              "    <tr style=\"text-align: right;\">\n",
              "      <th></th>\n",
              "      <th>business id column</th>\n",
              "      <th>name</th>\n",
              "      <th>address</th>\n",
              "      <th>city</th>\n",
              "      <th>state</th>\n",
              "      <th>postal_code</th>\n",
              "      <th>latitude</th>\n",
              "      <th>longitude</th>\n",
              "      <th>phone_number</th>\n",
              "      <th>postal5</th>\n",
              "    </tr>\n",
              "  </thead>\n",
              "  <tbody>\n",
              "    <tr>\n",
              "      <th>6000</th>\n",
              "      <td>98050</td>\n",
              "      <td>WRECKING BALL COFFEE ROASTERS</td>\n",
              "      <td>88 Colin P. Kelly Junior St</td>\n",
              "      <td>San Francisco</td>\n",
              "      <td>CA</td>\n",
              "      <td>94107</td>\n",
              "      <td>-9999.0</td>\n",
              "      <td>-9999.0</td>\n",
              "      <td>14155718189</td>\n",
              "      <td>94107</td>\n",
              "    </tr>\n",
              "  </tbody>\n",
              "</table>\n",
              "</div>"
            ],
            "text/plain": [
              "      business id column                           name  \\\n",
              "6000               98050  WRECKING BALL COFFEE ROASTERS   \n",
              "\n",
              "                          address           city state postal_code  latitude  \\\n",
              "6000  88 Colin P. Kelly Junior St  San Francisco    CA       94107   -9999.0   \n",
              "\n",
              "      longitude  phone_number postal5  \n",
              "6000    -9999.0   14155718189   94107  "
            ]
          },
          "execution_count": 8,
          "metadata": {},
          "output_type": "execute_result"
        }
      ],
      "source": [
        "bus.head(6001).tail(1) #postal5"
      ]
    },
    {
      "cell_type": "code",
      "execution_count": null,
      "id": "9fd02fd2",
      "metadata": {
        "id": "9fd02fd2",
        "outputId": "26ebff60-4e11-4cdf-b670-615ff78ceea8"
      },
      "outputs": [
        {
          "data": {
            "text/html": [
              "<div>\n",
              "<style scoped>\n",
              "    .dataframe tbody tr th:only-of-type {\n",
              "        vertical-align: middle;\n",
              "    }\n",
              "\n",
              "    .dataframe tbody tr th {\n",
              "        vertical-align: top;\n",
              "    }\n",
              "\n",
              "    .dataframe thead th {\n",
              "        text-align: right;\n",
              "    }\n",
              "</style>\n",
              "<table border=\"1\" class=\"dataframe\">\n",
              "  <thead>\n",
              "    <tr style=\"text-align: right;\">\n",
              "      <th></th>\n",
              "      <th>business id column</th>\n",
              "      <th>name</th>\n",
              "      <th>address</th>\n",
              "      <th>city</th>\n",
              "      <th>state</th>\n",
              "      <th>postal_code</th>\n",
              "      <th>latitude</th>\n",
              "      <th>longitude</th>\n",
              "      <th>phone_number</th>\n",
              "      <th>postal5</th>\n",
              "    </tr>\n",
              "  </thead>\n",
              "  <tbody>\n",
              "    <tr>\n",
              "      <th>22</th>\n",
              "      <td>100126</td>\n",
              "      <td>Lamas Peruvian Food Truck</td>\n",
              "      <td>Private Location</td>\n",
              "      <td>San Francisco</td>\n",
              "      <td>CA</td>\n",
              "      <td>-9999</td>\n",
              "      <td>-9999.0</td>\n",
              "      <td>-9999.0</td>\n",
              "      <td>-9999</td>\n",
              "      <td>None</td>\n",
              "    </tr>\n",
              "  </tbody>\n",
              "</table>\n",
              "</div>"
            ],
            "text/plain": [
              "    business id column                       name           address  \\\n",
              "22              100126  Lamas Peruvian Food Truck  Private Location   \n",
              "\n",
              "             city state postal_code  latitude  longitude  phone_number postal5  \n",
              "22  San Francisco    CA       -9999   -9999.0    -9999.0         -9999    None  "
            ]
          },
          "execution_count": 9,
          "metadata": {},
          "output_type": "execute_result"
        }
      ],
      "source": [
        "#bus = bus[\"postal5\"].str.find(\"None\")\n",
        "bus.head(23).tail(1) # first instance of postal5 = \"None\" when iterating through bus DataFrame"
      ]
    },
    {
      "cell_type": "markdown",
      "id": "working-night",
      "metadata": {
        "id": "working-night"
      },
      "source": [
        "## Part 2: Visualization"
      ]
    },
    {
      "cell_type": "markdown",
      "id": "suburban-founder",
      "metadata": {
        "id": "suburban-founder"
      },
      "source": [
        "Using the four Food Safety datasets bus.csv, ins2vio.csv, ins.csv, and vio.csv:\n",
        "\n",
        "2.Create a side-by-side boxplot like what you see in the figure that shows the distribution of the restaurant scores for each different risk category from 2017 to 2019. Use a figure size of at least 12 by 8.\n",
        "\n",
        "Hint: Consider using appropriate JOIN operations."
      ]
    },
    {
      "cell_type": "markdown",
      "id": "mental-skirt",
      "metadata": {
        "id": "mental-skirt"
      },
      "source": [
        "![image.png](attachment:34b56649-30c9-452d-8300-a14ffa9a3580.png)"
      ]
    },
    {
      "cell_type": "code",
      "execution_count": null,
      "id": "genuine-airline",
      "metadata": {
        "id": "genuine-airline",
        "outputId": "94e86c20-1869-4d9a-d3a1-7d2292ec9611"
      },
      "outputs": [
        {
          "data": {
            "text/plain": [
              "<AxesSubplot:xlabel='year', ylabel='score'>"
            ]
          },
          "execution_count": 53,
          "metadata": {},
          "output_type": "execute_result"
        },
        {
          "data": {
            "image/png": "[encoded data removed]",
            "text/plain": [
              "<Figure size 1440x1440 with 1 Axes>"
            ]
          },
          "metadata": {},
          "output_type": "display_data"
        }
      ],
      "source": [
        "import matplotlib.pyplot as plt\n",
        "import seaborn as sns\n",
        "\n",
        "scores = pd.merge(vio, ins2vio, how = 'left')\n",
        "scores = pd.merge(scores, ins, how = 'left')\n",
        "dataByYear = r'\\/(\\d{4})\\s'\n",
        "scores['year'] = scores['date'].str.extract(dataByYear)\n",
        "\n",
        "scores = scores[scores['year'] != '2016'] # 2017-2019\n",
        "scores['score'] = scores[scores['score'] > 40].score\n",
        "\n",
        "sns.set(rc = {'figure.figsize':(20, 20)})\n",
        "sns.boxplot(x = 'year', y = 'score', hue = 'risk_category', data = scores, hue_order = ['Low Risk', 'Moderate Risk', 'High Risk'])"
      ]
    },
    {
      "cell_type": "markdown",
      "id": "considered-coordination",
      "metadata": {
        "id": "considered-coordination"
      },
      "source": [
        "## Part 3: SQL"
      ]
    },
    {
      "cell_type": "markdown",
      "id": "continued-aquatic",
      "metadata": {
        "id": "continued-aquatic"
      },
      "source": [
        "3.1 Create a database `Cat` with the following schema:\n",
        "\n",
        "CREATE TABLE owners (\n",
        "\n",
        "ownerid integer,\n",
        "\n",
        "name text,\n",
        "\n",
        "age integer,\n",
        "\n",
        "PRIMARY KEY (ownerid)\n",
        "\n",
        ");\n",
        "\n",
        "\n",
        "CREATE TABLE cats (\n",
        "\n",
        "catid integer,\n",
        "\n",
        "owner integer,\n",
        "\n",
        "name text,\n",
        "\n",
        "breed text,\n",
        "\n",
        "age integer,\n",
        "\n",
        "PRIMARY KEY (catid),\n",
        "\n",
        "FOREIGN KEY (owner) REFERENCES owners);"
      ]
    },
    {
      "cell_type": "code",
      "execution_count": null,
      "id": "willing-documentation",
      "metadata": {
        "id": "willing-documentation"
      },
      "outputs": [],
      "source": [
        "import sqlite3\n",
        "cat = sqlite3.connect(':memory:')\n",
        "c = cat.cursor()\n",
        "\n",
        "c.execute(\"\"\"\n",
        "CREATE TABLE owners (\n",
        "  ownerid integer,\n",
        "  name text,\n",
        "  age integer,\n",
        "  PRIMARY KEY (ownerid)\n",
        ");\n",
        "\"\"\")\n",
        "\n",
        "c.execute(\"\"\"\n",
        "CREATE TABLE cats (\n",
        "  catid integer,\n",
        "  owner integer,\n",
        "  name text,\n",
        "  breed text,\n",
        "  age integer,\n",
        "  PRIMARY KEY (catid),\n",
        "  FOREIGN KEY (owner) REFERENCES owners\n",
        ");\n",
        "\"\"\")\n",
        "\n",
        "c.execute(\"\"\"\n",
        "INSERT INTO owners VALUES\n",
        "    (0, 'Abe', 30),\n",
        "    (1, 'Jullana', 20),\n",
        "    (2, 'Zane', 10);\n",
        "\"\"\")\n",
        "\n",
        "c.execute(\"\"\"\n",
        "INSERT INTO cats VALUES\n",
        "    (0, 1, 'Genji', 'Devon Rex', 2),\n",
        "    (1, 1, 'Tiger', 'Tabi', 4),\n",
        "    (2, 1, 'Mr. Mittens', 'Siamese', 6),\n",
        "    (3, 1, 'Sphynx', 'Sphynx', 8),\n",
        "    (4, 1, 'Meowth', 'Mainecoon', 11),\n",
        "    (5, 1, 'Kit Kat', 'Persian', 15);\n",
        "\"\"\")\n",
        "\n",
        "cat.commit()"
      ]
    },
    {
      "cell_type": "markdown",
      "id": "completed-cliff",
      "metadata": {
        "id": "completed-cliff"
      },
      "source": [
        "3.2. Write a SQL query that returns the number of cats, over the age of 10, of each\n",
        "breed of cat."
      ]
    },
    {
      "cell_type": "code",
      "execution_count": null,
      "id": "civilian-resort",
      "metadata": {
        "id": "civilian-resort",
        "outputId": "647ad123-549e-4901-f387-eb12ae90ffd6"
      },
      "outputs": [
        {
          "name": "stdout",
          "output_type": "stream",
          "text": [
            "(4, 1, 'Meowth', 'Mainecoon', 11)\n",
            "(5, 1, 'Kit Kat', 'Persian', 15)\n",
            "\n",
            "Number of cats over age 10: 2 cats\n"
          ]
        }
      ],
      "source": [
        "count = 0\n",
        "def print_sql(s):\n",
        "    for result in c.execute(s):\n",
        "        global count\n",
        "        count += 1\n",
        "        print(result)\n",
        "\n",
        "query1 = \"\"\"\n",
        "  SELECT * FROM cats\n",
        "  WHERE age > 10\n",
        "  GROUP BY breed;\n",
        "\"\"\"\n",
        "\n",
        "print_sql(query1)\n",
        "print() # line break\n",
        "print(\"Number of cats over age 10: \" + str(count) + \" cats\")"
      ]
    },
    {
      "cell_type": "markdown",
      "id": "united-feature",
      "metadata": {
        "id": "united-feature"
      },
      "source": [
        "3.3. Write a SQL query that returns the ownerid/owner of the one cat owner who owns\n",
        "the most cats."
      ]
    },
    {
      "cell_type": "code",
      "execution_count": null,
      "id": "revolutionary-theta",
      "metadata": {
        "id": "revolutionary-theta",
        "outputId": "176d02d9-5581-4749-9e04-f7c1ab7555fd"
      },
      "outputs": [
        {
          "name": "stdout",
          "output_type": "stream",
          "text": [
            "(1, 'Jules')\n"
          ]
        }
      ],
      "source": [
        "query2 = \"\"\"\n",
        "  SELECT owners.ownerid, owners.name FROM owners\n",
        "  INNER JOIN cats ON owners.ownerid = cats.owner\n",
        "  GROUP BY ownerid\n",
        "  ORDER BY COUNT(*) DESC\n",
        "  LIMIT 1;\n",
        "\"\"\"\n",
        "print_sql(query2)"
      ]
    }
  ],
  "metadata": {
    "kernelspec": {
      "display_name": "Python 3",
      "language": "python",
      "name": "python3"
    },
    "language_info": {
      "codemirror_mode": {
        "name": "ipython",
        "version": 3
      },
      "file_extension": ".py",
      "mimetype": "text/x-python",
      "name": "python",
      "nbconvert_exporter": "python",
      "pygments_lexer": "ipython3",
      "version": "3.8.8"
    },
    "colab": {
      "provenance": []
    }
  },
  "nbformat": 4,
  "nbformat_minor": 5
}